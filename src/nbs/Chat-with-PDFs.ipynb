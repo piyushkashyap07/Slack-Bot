{
 "cells": [
  {
   "cell_type": "code",
   "execution_count": 1,
   "id": "e0cb9335-3fd4-46cb-91c3-a12864500a7c",
   "metadata": {},
   "outputs": [
    {
     "name": "stdout",
     "output_type": "stream",
     "text": [
      "Requirement already satisfied: llama-index in /Users/cfe/Dev/django-slack/venv/lib/python3.12/site-packages (0.10.31)\n",
      "Requirement already satisfied: llama-index-agent-openai<0.3.0,>=0.1.4 in /Users/cfe/Dev/django-slack/venv/lib/python3.12/site-packages (from llama-index) (0.2.3)\n",
      "Requirement already satisfied: llama-index-cli<0.2.0,>=0.1.2 in /Users/cfe/Dev/django-slack/venv/lib/python3.12/site-packages (from llama-index) (0.1.12)\n",
      "Requirement already satisfied: llama-index-core<0.11.0,>=0.10.31 in /Users/cfe/Dev/django-slack/venv/lib/python3.12/site-packages (from llama-index) (0.10.31)\n",
      "Requirement already satisfied: llama-index-embeddings-openai<0.2.0,>=0.1.5 in /Users/cfe/Dev/django-slack/venv/lib/python3.12/site-packages (from llama-index) (0.1.8)\n",
      "Requirement already satisfied: llama-index-indices-managed-llama-cloud<0.2.0,>=0.1.2 in /Users/cfe/Dev/django-slack/venv/lib/python3.12/site-packages (from llama-index) (0.1.5)\n",
      "Requirement already satisfied: llama-index-legacy<0.10.0,>=0.9.48 in /Users/cfe/Dev/django-slack/venv/lib/python3.12/site-packages (from llama-index) (0.9.48)\n",
      "Requirement already satisfied: llama-index-llms-openai<0.2.0,>=0.1.13 in /Users/cfe/Dev/django-slack/venv/lib/python3.12/site-packages (from llama-index) (0.1.16)\n",
      "Requirement already satisfied: llama-index-multi-modal-llms-openai<0.2.0,>=0.1.3 in /Users/cfe/Dev/django-slack/venv/lib/python3.12/site-packages (from llama-index) (0.1.5)\n",
      "Requirement already satisfied: llama-index-program-openai<0.2.0,>=0.1.3 in /Users/cfe/Dev/django-slack/venv/lib/python3.12/site-packages (from llama-index) (0.1.6)\n",
      "Requirement already satisfied: llama-index-question-gen-openai<0.2.0,>=0.1.2 in /Users/cfe/Dev/django-slack/venv/lib/python3.12/site-packages (from llama-index) (0.1.3)\n",
      "Requirement already satisfied: llama-index-readers-file<0.2.0,>=0.1.4 in /Users/cfe/Dev/django-slack/venv/lib/python3.12/site-packages (from llama-index) (0.1.19)\n",
      "Requirement already satisfied: llama-index-readers-llama-parse<0.2.0,>=0.1.2 in /Users/cfe/Dev/django-slack/venv/lib/python3.12/site-packages (from llama-index) (0.1.4)\n",
      "Requirement already satisfied: openai>=1.14.0 in /Users/cfe/Dev/django-slack/venv/lib/python3.12/site-packages (from llama-index-agent-openai<0.3.0,>=0.1.4->llama-index) (1.23.4)\n",
      "Requirement already satisfied: PyYAML>=6.0.1 in /Users/cfe/Dev/django-slack/venv/lib/python3.12/site-packages (from llama-index-core<0.11.0,>=0.10.31->llama-index) (6.0.1)\n",
      "Requirement already satisfied: SQLAlchemy>=1.4.49 in /Users/cfe/Dev/django-slack/venv/lib/python3.12/site-packages (from SQLAlchemy[asyncio]>=1.4.49->llama-index-core<0.11.0,>=0.10.31->llama-index) (2.0.29)\n",
      "Requirement already satisfied: aiohttp<4.0.0,>=3.8.6 in /Users/cfe/Dev/django-slack/venv/lib/python3.12/site-packages (from llama-index-core<0.11.0,>=0.10.31->llama-index) (3.9.5)\n",
      "Requirement already satisfied: dataclasses-json in /Users/cfe/Dev/django-slack/venv/lib/python3.12/site-packages (from llama-index-core<0.11.0,>=0.10.31->llama-index) (0.6.4)\n",
      "Requirement already satisfied: deprecated>=1.2.9.3 in /Users/cfe/Dev/django-slack/venv/lib/python3.12/site-packages (from llama-index-core<0.11.0,>=0.10.31->llama-index) (1.2.14)\n",
      "Requirement already satisfied: dirtyjson<2.0.0,>=1.0.8 in /Users/cfe/Dev/django-slack/venv/lib/python3.12/site-packages (from llama-index-core<0.11.0,>=0.10.31->llama-index) (1.0.8)\n",
      "Requirement already satisfied: fsspec>=2023.5.0 in /Users/cfe/Dev/django-slack/venv/lib/python3.12/site-packages (from llama-index-core<0.11.0,>=0.10.31->llama-index) (2024.3.1)\n",
      "Requirement already satisfied: httpx in /Users/cfe/Dev/django-slack/venv/lib/python3.12/site-packages (from llama-index-core<0.11.0,>=0.10.31->llama-index) (0.27.0)\n",
      "Requirement already satisfied: llamaindex-py-client<0.2.0,>=0.1.18 in /Users/cfe/Dev/django-slack/venv/lib/python3.12/site-packages (from llama-index-core<0.11.0,>=0.10.31->llama-index) (0.1.18)\n",
      "Requirement already satisfied: nest-asyncio<2.0.0,>=1.5.8 in /Users/cfe/Dev/django-slack/venv/lib/python3.12/site-packages (from llama-index-core<0.11.0,>=0.10.31->llama-index) (1.6.0)\n",
      "Requirement already satisfied: networkx>=3.0 in /Users/cfe/Dev/django-slack/venv/lib/python3.12/site-packages (from llama-index-core<0.11.0,>=0.10.31->llama-index) (3.3)\n",
      "Requirement already satisfied: nltk<4.0.0,>=3.8.1 in /Users/cfe/Dev/django-slack/venv/lib/python3.12/site-packages (from llama-index-core<0.11.0,>=0.10.31->llama-index) (3.8.1)\n",
      "Requirement already satisfied: numpy in /Users/cfe/Dev/django-slack/venv/lib/python3.12/site-packages (from llama-index-core<0.11.0,>=0.10.31->llama-index) (1.26.4)\n",
      "Requirement already satisfied: pandas in /Users/cfe/Dev/django-slack/venv/lib/python3.12/site-packages (from llama-index-core<0.11.0,>=0.10.31->llama-index) (2.2.2)\n",
      "Requirement already satisfied: pillow>=9.0.0 in /Users/cfe/Dev/django-slack/venv/lib/python3.12/site-packages (from llama-index-core<0.11.0,>=0.10.31->llama-index) (10.3.0)\n",
      "Requirement already satisfied: requests>=2.31.0 in /Users/cfe/Dev/django-slack/venv/lib/python3.12/site-packages (from llama-index-core<0.11.0,>=0.10.31->llama-index) (2.31.0)\n",
      "Requirement already satisfied: tenacity<9.0.0,>=8.2.0 in /Users/cfe/Dev/django-slack/venv/lib/python3.12/site-packages (from llama-index-core<0.11.0,>=0.10.31->llama-index) (8.2.3)\n",
      "Requirement already satisfied: tiktoken>=0.3.3 in /Users/cfe/Dev/django-slack/venv/lib/python3.12/site-packages (from llama-index-core<0.11.0,>=0.10.31->llama-index) (0.6.0)\n",
      "Requirement already satisfied: tqdm<5.0.0,>=4.66.1 in /Users/cfe/Dev/django-slack/venv/lib/python3.12/site-packages (from llama-index-core<0.11.0,>=0.10.31->llama-index) (4.66.2)\n",
      "Requirement already satisfied: typing-extensions>=4.5.0 in /Users/cfe/Dev/django-slack/venv/lib/python3.12/site-packages (from llama-index-core<0.11.0,>=0.10.31->llama-index) (4.11.0)\n",
      "Requirement already satisfied: typing-inspect>=0.8.0 in /Users/cfe/Dev/django-slack/venv/lib/python3.12/site-packages (from llama-index-core<0.11.0,>=0.10.31->llama-index) (0.9.0)\n",
      "Requirement already satisfied: wrapt in /Users/cfe/Dev/django-slack/venv/lib/python3.12/site-packages (from llama-index-core<0.11.0,>=0.10.31->llama-index) (1.16.0)\n",
      "Requirement already satisfied: beautifulsoup4<5.0.0,>=4.12.3 in /Users/cfe/Dev/django-slack/venv/lib/python3.12/site-packages (from llama-index-readers-file<0.2.0,>=0.1.4->llama-index) (4.12.3)\n",
      "Requirement already satisfied: pypdf<5.0.0,>=4.0.1 in /Users/cfe/Dev/django-slack/venv/lib/python3.12/site-packages (from llama-index-readers-file<0.2.0,>=0.1.4->llama-index) (4.2.0)\n",
      "Requirement already satisfied: striprtf<0.0.27,>=0.0.26 in /Users/cfe/Dev/django-slack/venv/lib/python3.12/site-packages (from llama-index-readers-file<0.2.0,>=0.1.4->llama-index) (0.0.26)\n",
      "Requirement already satisfied: llama-parse<0.5.0,>=0.4.0 in /Users/cfe/Dev/django-slack/venv/lib/python3.12/site-packages (from llama-index-readers-llama-parse<0.2.0,>=0.1.2->llama-index) (0.4.1)\n",
      "Requirement already satisfied: aiosignal>=1.1.2 in /Users/cfe/Dev/django-slack/venv/lib/python3.12/site-packages (from aiohttp<4.0.0,>=3.8.6->llama-index-core<0.11.0,>=0.10.31->llama-index) (1.3.1)\n",
      "Requirement already satisfied: attrs>=17.3.0 in /Users/cfe/Dev/django-slack/venv/lib/python3.12/site-packages (from aiohttp<4.0.0,>=3.8.6->llama-index-core<0.11.0,>=0.10.31->llama-index) (23.2.0)\n",
      "Requirement already satisfied: frozenlist>=1.1.1 in /Users/cfe/Dev/django-slack/venv/lib/python3.12/site-packages (from aiohttp<4.0.0,>=3.8.6->llama-index-core<0.11.0,>=0.10.31->llama-index) (1.4.1)\n",
      "Requirement already satisfied: multidict<7.0,>=4.5 in /Users/cfe/Dev/django-slack/venv/lib/python3.12/site-packages (from aiohttp<4.0.0,>=3.8.6->llama-index-core<0.11.0,>=0.10.31->llama-index) (6.0.5)\n",
      "Requirement already satisfied: yarl<2.0,>=1.0 in /Users/cfe/Dev/django-slack/venv/lib/python3.12/site-packages (from aiohttp<4.0.0,>=3.8.6->llama-index-core<0.11.0,>=0.10.31->llama-index) (1.9.4)\n",
      "Requirement already satisfied: soupsieve>1.2 in /Users/cfe/Dev/django-slack/venv/lib/python3.12/site-packages (from beautifulsoup4<5.0.0,>=4.12.3->llama-index-readers-file<0.2.0,>=0.1.4->llama-index) (2.5)\n",
      "Requirement already satisfied: pydantic>=1.10 in /Users/cfe/Dev/django-slack/venv/lib/python3.12/site-packages (from llamaindex-py-client<0.2.0,>=0.1.18->llama-index-core<0.11.0,>=0.10.31->llama-index) (2.7.1)\n",
      "Requirement already satisfied: anyio in /Users/cfe/Dev/django-slack/venv/lib/python3.12/site-packages (from httpx->llama-index-core<0.11.0,>=0.10.31->llama-index) (4.3.0)\n",
      "Requirement already satisfied: certifi in /Users/cfe/Dev/django-slack/venv/lib/python3.12/site-packages (from httpx->llama-index-core<0.11.0,>=0.10.31->llama-index) (2024.2.2)\n",
      "Requirement already satisfied: httpcore==1.* in /Users/cfe/Dev/django-slack/venv/lib/python3.12/site-packages (from httpx->llama-index-core<0.11.0,>=0.10.31->llama-index) (1.0.5)\n",
      "Requirement already satisfied: idna in /Users/cfe/Dev/django-slack/venv/lib/python3.12/site-packages (from httpx->llama-index-core<0.11.0,>=0.10.31->llama-index) (3.7)\n",
      "Requirement already satisfied: sniffio in /Users/cfe/Dev/django-slack/venv/lib/python3.12/site-packages (from httpx->llama-index-core<0.11.0,>=0.10.31->llama-index) (1.3.1)\n",
      "Requirement already satisfied: h11<0.15,>=0.13 in /Users/cfe/Dev/django-slack/venv/lib/python3.12/site-packages (from httpcore==1.*->httpx->llama-index-core<0.11.0,>=0.10.31->llama-index) (0.14.0)\n",
      "Requirement already satisfied: click in /Users/cfe/Dev/django-slack/venv/lib/python3.12/site-packages (from nltk<4.0.0,>=3.8.1->llama-index-core<0.11.0,>=0.10.31->llama-index) (8.1.7)\n",
      "Requirement already satisfied: joblib in /Users/cfe/Dev/django-slack/venv/lib/python3.12/site-packages (from nltk<4.0.0,>=3.8.1->llama-index-core<0.11.0,>=0.10.31->llama-index) (1.4.0)\n",
      "Requirement already satisfied: regex>=2021.8.3 in /Users/cfe/Dev/django-slack/venv/lib/python3.12/site-packages (from nltk<4.0.0,>=3.8.1->llama-index-core<0.11.0,>=0.10.31->llama-index) (2024.4.16)\n",
      "Requirement already satisfied: distro<2,>=1.7.0 in /Users/cfe/Dev/django-slack/venv/lib/python3.12/site-packages (from openai>=1.14.0->llama-index-agent-openai<0.3.0,>=0.1.4->llama-index) (1.9.0)\n",
      "Requirement already satisfied: charset-normalizer<4,>=2 in /Users/cfe/Dev/django-slack/venv/lib/python3.12/site-packages (from requests>=2.31.0->llama-index-core<0.11.0,>=0.10.31->llama-index) (3.3.2)\n",
      "Requirement already satisfied: urllib3<3,>=1.21.1 in /Users/cfe/Dev/django-slack/venv/lib/python3.12/site-packages (from requests>=2.31.0->llama-index-core<0.11.0,>=0.10.31->llama-index) (2.2.1)\n",
      "Requirement already satisfied: greenlet!=0.4.17 in /Users/cfe/Dev/django-slack/venv/lib/python3.12/site-packages (from SQLAlchemy[asyncio]>=1.4.49->llama-index-core<0.11.0,>=0.10.31->llama-index) (3.0.3)\n",
      "Requirement already satisfied: mypy-extensions>=0.3.0 in /Users/cfe/Dev/django-slack/venv/lib/python3.12/site-packages (from typing-inspect>=0.8.0->llama-index-core<0.11.0,>=0.10.31->llama-index) (1.0.0)\n",
      "Requirement already satisfied: marshmallow<4.0.0,>=3.18.0 in /Users/cfe/Dev/django-slack/venv/lib/python3.12/site-packages (from dataclasses-json->llama-index-core<0.11.0,>=0.10.31->llama-index) (3.21.1)\n",
      "Requirement already satisfied: python-dateutil>=2.8.2 in /Users/cfe/Dev/django-slack/venv/lib/python3.12/site-packages (from pandas->llama-index-core<0.11.0,>=0.10.31->llama-index) (2.9.0.post0)\n",
      "Requirement already satisfied: pytz>=2020.1 in /Users/cfe/Dev/django-slack/venv/lib/python3.12/site-packages (from pandas->llama-index-core<0.11.0,>=0.10.31->llama-index) (2024.1)\n",
      "Requirement already satisfied: tzdata>=2022.7 in /Users/cfe/Dev/django-slack/venv/lib/python3.12/site-packages (from pandas->llama-index-core<0.11.0,>=0.10.31->llama-index) (2024.1)\n",
      "Requirement already satisfied: packaging>=17.0 in /Users/cfe/Dev/django-slack/venv/lib/python3.12/site-packages (from marshmallow<4.0.0,>=3.18.0->dataclasses-json->llama-index-core<0.11.0,>=0.10.31->llama-index) (24.0)\n",
      "Requirement already satisfied: annotated-types>=0.4.0 in /Users/cfe/Dev/django-slack/venv/lib/python3.12/site-packages (from pydantic>=1.10->llamaindex-py-client<0.2.0,>=0.1.18->llama-index-core<0.11.0,>=0.10.31->llama-index) (0.6.0)\n",
      "Requirement already satisfied: pydantic-core==2.18.2 in /Users/cfe/Dev/django-slack/venv/lib/python3.12/site-packages (from pydantic>=1.10->llamaindex-py-client<0.2.0,>=0.1.18->llama-index-core<0.11.0,>=0.10.31->llama-index) (2.18.2)\n",
      "Requirement already satisfied: six>=1.5 in /Users/cfe/Dev/django-slack/venv/lib/python3.12/site-packages (from python-dateutil>=2.8.2->pandas->llama-index-core<0.11.0,>=0.10.31->llama-index) (1.16.0)\n",
      "Note: you may need to restart the kernel to use updated packages.\n"
     ]
    }
   ],
   "source": [
    "%pip install llama-index"
   ]
  },
  {
   "cell_type": "code",
   "execution_count": 2,
   "id": "c484b90f-31ef-49cb-9bbe-d54b2bf36ed0",
   "metadata": {},
   "outputs": [],
   "source": [
    "import setup\n",
    "setup.init_django()"
   ]
  },
  {
   "cell_type": "code",
   "execution_count": 6,
   "id": "9e775244-23d3-4edb-9420-ea38c2bc81a1",
   "metadata": {},
   "outputs": [],
   "source": [
    "django_pdf = \"data/django.pdf\""
   ]
  },
  {
   "cell_type": "code",
   "execution_count": 7,
   "id": "63158115-7757-4573-ad73-919c6901df0e",
   "metadata": {},
   "outputs": [],
   "source": [
    "from llama_index.core import VectorStoreIndex, SimpleDirectoryReader"
   ]
  },
  {
   "cell_type": "code",
   "execution_count": 8,
   "id": "3a3b403e-a1cc-4967-a486-15ac209abed9",
   "metadata": {},
   "outputs": [],
   "source": [
    "reader = SimpleDirectoryReader(input_files=[django_pdf])"
   ]
  },
  {
   "cell_type": "code",
   "execution_count": 9,
   "id": "97a96766-e1c8-4c0d-89c6-16f200a79ca7",
   "metadata": {},
   "outputs": [],
   "source": [
    "data = reader.load_data()"
   ]
  },
  {
   "cell_type": "code",
   "execution_count": 10,
   "id": "ba27c5e6-a23d-4018-a92a-930ce33cc138",
   "metadata": {},
   "outputs": [],
   "source": [
    "import helpers\n",
    "import openai\n",
    "openai.api_key = helpers.config(\"OPENAI_API_KEY\", default=None)"
   ]
  },
  {
   "cell_type": "code",
   "execution_count": 11,
   "id": "842c914b-b63c-46bf-96b7-a108b8553fc4",
   "metadata": {},
   "outputs": [],
   "source": [
    "index = VectorStoreIndex.from_documents(data)"
   ]
  },
  {
   "cell_type": "code",
   "execution_count": 12,
   "id": "4056a2d9-0884-44a6-8247-4882cab683ef",
   "metadata": {},
   "outputs": [],
   "source": [
    "query_engine = index.as_query_engine()"
   ]
  },
  {
   "cell_type": "code",
   "execution_count": 24,
   "id": "7fbde12d-f20a-4c56-a028-2522700be08b",
   "metadata": {},
   "outputs": [
    {
     "name": "stdout",
     "output_type": "stream",
     "text": [
      "max_length, db_collation\n"
     ]
    }
   ],
   "source": [
    "r = query_engine.query(\"What are the arguments for CharField?\")\n",
    "print(r.response)"
   ]
  },
  {
   "cell_type": "code",
   "execution_count": null,
   "id": "63727d2c-1afd-4a44-b75f-a95dfa4a8861",
   "metadata": {},
   "outputs": [],
   "source": []
  }
 ],
 "metadata": {
  "kernelspec": {
   "display_name": "Python 3 (ipykernel)",
   "language": "python",
   "name": "python3"
  },
  "language_info": {
   "codemirror_mode": {
    "name": "ipython",
    "version": 3
   },
   "file_extension": ".py",
   "mimetype": "text/x-python",
   "name": "python",
   "nbconvert_exporter": "python",
   "pygments_lexer": "ipython3",
   "version": "3.12.2"
  }
 },
 "nbformat": 4,
 "nbformat_minor": 5
}
