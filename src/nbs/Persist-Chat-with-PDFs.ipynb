{
 "cells": [
  {
   "cell_type": "code",
   "execution_count": null,
   "id": "e0cb9335-3fd4-46cb-91c3-a12864500a7c",
   "metadata": {},
   "outputs": [],
   "source": [
    "# %pip install llama-index llama-index-vector-stores-upstash upstash-vector"
   ]
  },
  {
   "cell_type": "code",
   "execution_count": 1,
   "id": "c484b90f-31ef-49cb-9bbe-d54b2bf36ed0",
   "metadata": {},
   "outputs": [],
   "source": [
    "import setup\n",
    "setup.init_django()"
   ]
  },
  {
   "cell_type": "code",
   "execution_count": 2,
   "id": "9e775244-23d3-4edb-9420-ea38c2bc81a1",
   "metadata": {},
   "outputs": [],
   "source": [
    "django_pdf = \"data/django.pdf\""
   ]
  },
  {
   "cell_type": "code",
   "execution_count": 13,
   "id": "63158115-7757-4573-ad73-919c6901df0e",
   "metadata": {},
   "outputs": [],
   "source": [
    "from llama_index.core import VectorStoreIndex, SimpleDirectoryReader, StorageContext\n",
    "from llama_index.vector_stores.upstash import UpstashVectorStore # changed from the LlamaIndex Docs"
   ]
  },
  {
   "cell_type": "code",
   "execution_count": 4,
   "id": "3a3b403e-a1cc-4967-a486-15ac209abed9",
   "metadata": {},
   "outputs": [],
   "source": [
    "reader = SimpleDirectoryReader(input_files=[django_pdf])"
   ]
  },
  {
   "cell_type": "code",
   "execution_count": 6,
   "id": "ba27c5e6-a23d-4018-a92a-930ce33cc138",
   "metadata": {},
   "outputs": [],
   "source": [
    "import helpers\n",
    "import openai\n",
    "openai.api_key = helpers.config(\"OPENAI_API_KEY\", default=None)"
   ]
  },
  {
   "cell_type": "code",
   "execution_count": 8,
   "id": "b1999650-93c6-4126-8a28-5999d6ff4b31",
   "metadata": {},
   "outputs": [
    {
     "data": {
      "text/plain": [
       "'https://grown-basilisk-88477-us1-vector.upstash.io'"
      ]
     },
     "execution_count": 8,
     "metadata": {},
     "output_type": "execute_result"
    }
   ],
   "source": [
    "url=helpers.config(\"UPSTASH_VECTOR_URL\", default=None)\n",
    "token=helpers.config(\"UPSTASH_VECTOR_TOKEN\", default=None)\n",
    "url"
   ]
  },
  {
   "cell_type": "code",
   "execution_count": 5,
   "id": "97a96766-e1c8-4c0d-89c6-16f200a79ca7",
   "metadata": {},
   "outputs": [],
   "source": [
    "data = reader.load_data()"
   ]
  },
  {
   "cell_type": "code",
   "execution_count": 10,
   "id": "9b22f07b-38a5-451a-8f9d-7119002c8f5b",
   "metadata": {},
   "outputs": [],
   "source": [
    "import httpx\n",
    "\n",
    "timeout = httpx.Timeout(600.0, connect=600.0)\n",
    "client = httpx.Client(timeout=timeout)"
   ]
  },
  {
   "cell_type": "code",
   "execution_count": 11,
   "id": "1a300fb8-b74a-419f-8d2c-5e38257ea5f3",
   "metadata": {},
   "outputs": [],
   "source": [
    "from upstash_vector import Index\n",
    "\n",
    "upstash_index = Index(\n",
    "    url=url, \n",
    "    token=token,\n",
    "    retries=5,\n",
    "    retry_interval=0.2\n",
    ")\n",
    "upstash_index._client = client"
   ]
  },
  {
   "cell_type": "code",
   "execution_count": 14,
   "id": "673b8367-f905-4026-978a-e1c3337447e5",
   "metadata": {},
   "outputs": [],
   "source": [
    "vector_store = UpstashVectorStore(\n",
    "    url=url, \n",
    "    token=token,\n",
    ")\n",
    "vector_store._index = upstash_index"
   ]
  },
  {
   "cell_type": "code",
   "execution_count": 15,
   "id": "2170971c-8b14-494a-946c-ee72672278e0",
   "metadata": {},
   "outputs": [],
   "source": [
    "storage_context = StorageContext.from_defaults(vector_store=vector_store)"
   ]
  },
  {
   "cell_type": "code",
   "execution_count": 16,
   "id": "842c914b-b63c-46bf-96b7-a108b8553fc4",
   "metadata": {},
   "outputs": [],
   "source": [
    "index = VectorStoreIndex.from_documents(data, storage_context=storage_context, insert_batch_size=500)"
   ]
  },
  {
   "cell_type": "code",
   "execution_count": 17,
   "id": "10629dff-cc11-4434-a8ba-ebaaf4860ad5",
   "metadata": {},
   "outputs": [],
   "source": [
    "index_persist = VectorStoreIndex.from_vector_store(vector_store=vector_store)"
   ]
  },
  {
   "cell_type": "code",
   "execution_count": 24,
   "id": "4056a2d9-0884-44a6-8247-4882cab683ef",
   "metadata": {},
   "outputs": [],
   "source": [
    "from llama_index.core.response_synthesizers.type import ResponseMode\n",
    "query_engine = index_persist.as_query_engine()"
   ]
  },
  {
   "cell_type": "code",
   "execution_count": 25,
   "id": "7fbde12d-f20a-4c56-a028-2522700be08b",
   "metadata": {},
   "outputs": [
    {
     "name": "stdout",
     "output_type": "stream",
     "text": [
      "max_length, db_collation\n"
     ]
    }
   ],
   "source": [
    "r = query_engine.query(\"What are the arguments for CharField?\")\n",
    "print(r)"
   ]
  },
  {
   "cell_type": "code",
   "execution_count": null,
   "id": "63727d2c-1afd-4a44-b75f-a95dfa4a8861",
   "metadata": {},
   "outputs": [],
   "source": []
  },
  {
   "cell_type": "code",
   "execution_count": null,
   "id": "888e390d-88ae-47d4-a8ed-96ac7a2d2210",
   "metadata": {},
   "outputs": [],
   "source": []
  }
 ],
 "metadata": {
  "kernelspec": {
   "display_name": "Python 3 (ipykernel)",
   "language": "python",
   "name": "python3"
  },
  "language_info": {
   "codemirror_mode": {
    "name": "ipython",
    "version": 3
   },
   "file_extension": ".py",
   "mimetype": "text/x-python",
   "name": "python",
   "nbconvert_exporter": "python",
   "pygments_lexer": "ipython3",
   "version": "3.12.2"
  }
 },
 "nbformat": 4,
 "nbformat_minor": 5
}
